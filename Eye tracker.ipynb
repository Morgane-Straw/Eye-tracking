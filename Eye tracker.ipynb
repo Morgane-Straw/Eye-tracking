{
 "cells": [
  {
   "cell_type": "markdown",
   "metadata": {},
   "source": [
    "# Import et structuration des données"
   ]
  },
  {
   "cell_type": "markdown",
   "metadata": {},
   "source": [
    "On structure les données de façon à savoir à quelle condition correspond quel enregistrement\n",
    "\n",
    "Ici c1 (pas de timer peu de contrainte de temps) correspond aux enregistrements 1,3 et 5\n",
    "\n",
    "Ici c2 (timer forte contrainte de temps) correspond aux enregistrements 2,4 et 6\n",
    "\n",
    "Ici c2 (timer peu de contrainte de temps) correspond aux enregistrements 7,8 et 9"
   ]
  },
  {
   "cell_type": "code",
   "execution_count": 1,
   "metadata": {},
   "outputs": [],
   "source": [
    "import pandas as pd\n",
    "data={'c1':{'r1':'','r3':'','r5':''},'c2':{'r2':'','r4':'','r6':''},'c3':{'r7':'','r8':'','r9':''}}"
   ]
  },
  {
   "cell_type": "code",
   "execution_count": 2,
   "metadata": {},
   "outputs": [
    {
     "name": "stderr",
     "output_type": "stream",
     "text": [
      "C:\\Users\\asus\\Dev\\Anaconda\\lib\\site-packages\\IPython\\core\\interactiveshell.py:3063: DtypeWarning: Columns (65,66,67,68,69,70,72,84,85) have mixed types.Specify dtype option on import or set low_memory=False.\n",
      "  interactivity=interactivity, compiler=compiler, result=result)\n",
      "C:\\Users\\asus\\Dev\\Anaconda\\lib\\site-packages\\IPython\\core\\interactiveshell.py:3063: DtypeWarning: Columns (65,66,67,68,69,70,71,72,84,85) have mixed types.Specify dtype option on import or set low_memory=False.\n",
      "  interactivity=interactivity, compiler=compiler, result=result)\n",
      "C:\\Users\\asus\\Dev\\Anaconda\\lib\\site-packages\\IPython\\core\\interactiveshell.py:3063: DtypeWarning: Columns (37,38,65,66,67,68,69,70,72,84,85) have mixed types.Specify dtype option on import or set low_memory=False.\n",
      "  interactivity=interactivity, compiler=compiler, result=result)\n"
     ]
    }
   ],
   "source": [
    "for c in data:\n",
    "    for r in data[c]:\n",
    "        data[c][r]=pd.read_csv(c+r+'.tsv', sep='\\t')"
   ]
  },
  {
   "cell_type": "code",
   "execution_count": 4,
   "metadata": {},
   "outputs": [
    {
     "data": {
      "text/html": [
       "<div>\n",
       "<style scoped>\n",
       "    .dataframe tbody tr th:only-of-type {\n",
       "        vertical-align: middle;\n",
       "    }\n",
       "\n",
       "    .dataframe tbody tr th {\n",
       "        vertical-align: top;\n",
       "    }\n",
       "\n",
       "    .dataframe thead th {\n",
       "        text-align: right;\n",
       "    }\n",
       "</style>\n",
       "<table border=\"1\" class=\"dataframe\">\n",
       "  <thead>\n",
       "    <tr style=\"text-align: right;\">\n",
       "      <th></th>\n",
       "      <th>Recording timestamp</th>\n",
       "      <th>Computer timestamp</th>\n",
       "      <th>Sensor</th>\n",
       "      <th>Project name</th>\n",
       "      <th>Export date</th>\n",
       "      <th>Participant name</th>\n",
       "      <th>Recording name</th>\n",
       "      <th>Recording date</th>\n",
       "      <th>Recording date UTC</th>\n",
       "      <th>Recording start time</th>\n",
       "      <th>...</th>\n",
       "      <th>Client area position X (DACSpx)</th>\n",
       "      <th>Client area position Y (DACSpx)</th>\n",
       "      <th>Viewport position X</th>\n",
       "      <th>Viewport position Y</th>\n",
       "      <th>Viewport width</th>\n",
       "      <th>Viewport height</th>\n",
       "      <th>Full page width</th>\n",
       "      <th>Full page height</th>\n",
       "      <th>Mouse position X</th>\n",
       "      <th>Mouse position Y</th>\n",
       "    </tr>\n",
       "  </thead>\n",
       "  <tbody>\n",
       "    <tr>\n",
       "      <th>0</th>\n",
       "      <td>0</td>\n",
       "      <td>1233368193647</td>\n",
       "      <td>NaN</td>\n",
       "      <td>Project3</td>\n",
       "      <td>15/04/2021</td>\n",
       "      <td>Participant1</td>\n",
       "      <td>Recording1</td>\n",
       "      <td>02/04/2021</td>\n",
       "      <td>02/04/2021</td>\n",
       "      <td>15:43:16.027</td>\n",
       "      <td>...</td>\n",
       "      <td>NaN</td>\n",
       "      <td>NaN</td>\n",
       "      <td>NaN</td>\n",
       "      <td>NaN</td>\n",
       "      <td>NaN</td>\n",
       "      <td>NaN</td>\n",
       "      <td>NaN</td>\n",
       "      <td>NaN</td>\n",
       "      <td>NaN</td>\n",
       "      <td>NaN</td>\n",
       "    </tr>\n",
       "    <tr>\n",
       "      <th>1</th>\n",
       "      <td>19185</td>\n",
       "      <td>1233368212832</td>\n",
       "      <td>Eye Tracker</td>\n",
       "      <td>Project3</td>\n",
       "      <td>15/04/2021</td>\n",
       "      <td>Participant1</td>\n",
       "      <td>Recording1</td>\n",
       "      <td>02/04/2021</td>\n",
       "      <td>02/04/2021</td>\n",
       "      <td>15:43:16.027</td>\n",
       "      <td>...</td>\n",
       "      <td>NaN</td>\n",
       "      <td>NaN</td>\n",
       "      <td>NaN</td>\n",
       "      <td>NaN</td>\n",
       "      <td>NaN</td>\n",
       "      <td>NaN</td>\n",
       "      <td>NaN</td>\n",
       "      <td>NaN</td>\n",
       "      <td>NaN</td>\n",
       "      <td>NaN</td>\n",
       "    </tr>\n",
       "    <tr>\n",
       "      <th>2</th>\n",
       "      <td>35839</td>\n",
       "      <td>1233368229486</td>\n",
       "      <td>Eye Tracker</td>\n",
       "      <td>Project3</td>\n",
       "      <td>15/04/2021</td>\n",
       "      <td>Participant1</td>\n",
       "      <td>Recording1</td>\n",
       "      <td>02/04/2021</td>\n",
       "      <td>02/04/2021</td>\n",
       "      <td>15:43:16.027</td>\n",
       "      <td>...</td>\n",
       "      <td>NaN</td>\n",
       "      <td>NaN</td>\n",
       "      <td>NaN</td>\n",
       "      <td>NaN</td>\n",
       "      <td>NaN</td>\n",
       "      <td>NaN</td>\n",
       "      <td>NaN</td>\n",
       "      <td>NaN</td>\n",
       "      <td>NaN</td>\n",
       "      <td>NaN</td>\n",
       "    </tr>\n",
       "    <tr>\n",
       "      <th>3</th>\n",
       "      <td>65974</td>\n",
       "      <td>1233368259621</td>\n",
       "      <td>Eye Tracker</td>\n",
       "      <td>Project3</td>\n",
       "      <td>15/04/2021</td>\n",
       "      <td>Participant1</td>\n",
       "      <td>Recording1</td>\n",
       "      <td>02/04/2021</td>\n",
       "      <td>02/04/2021</td>\n",
       "      <td>15:43:16.027</td>\n",
       "      <td>...</td>\n",
       "      <td>NaN</td>\n",
       "      <td>NaN</td>\n",
       "      <td>NaN</td>\n",
       "      <td>NaN</td>\n",
       "      <td>NaN</td>\n",
       "      <td>NaN</td>\n",
       "      <td>NaN</td>\n",
       "      <td>NaN</td>\n",
       "      <td>NaN</td>\n",
       "      <td>NaN</td>\n",
       "    </tr>\n",
       "    <tr>\n",
       "      <th>4</th>\n",
       "      <td>82628</td>\n",
       "      <td>1233368276275</td>\n",
       "      <td>Eye Tracker</td>\n",
       "      <td>Project3</td>\n",
       "      <td>15/04/2021</td>\n",
       "      <td>Participant1</td>\n",
       "      <td>Recording1</td>\n",
       "      <td>02/04/2021</td>\n",
       "      <td>02/04/2021</td>\n",
       "      <td>15:43:16.027</td>\n",
       "      <td>...</td>\n",
       "      <td>NaN</td>\n",
       "      <td>NaN</td>\n",
       "      <td>NaN</td>\n",
       "      <td>NaN</td>\n",
       "      <td>NaN</td>\n",
       "      <td>NaN</td>\n",
       "      <td>NaN</td>\n",
       "      <td>NaN</td>\n",
       "      <td>NaN</td>\n",
       "      <td>NaN</td>\n",
       "    </tr>\n",
       "    <tr>\n",
       "      <th>...</th>\n",
       "      <td>...</td>\n",
       "      <td>...</td>\n",
       "      <td>...</td>\n",
       "      <td>...</td>\n",
       "      <td>...</td>\n",
       "      <td>...</td>\n",
       "      <td>...</td>\n",
       "      <td>...</td>\n",
       "      <td>...</td>\n",
       "      <td>...</td>\n",
       "      <td>...</td>\n",
       "      <td>...</td>\n",
       "      <td>...</td>\n",
       "      <td>...</td>\n",
       "      <td>...</td>\n",
       "      <td>...</td>\n",
       "      <td>...</td>\n",
       "      <td>...</td>\n",
       "      <td>...</td>\n",
       "      <td>...</td>\n",
       "      <td>...</td>\n",
       "    </tr>\n",
       "    <tr>\n",
       "      <th>18310</th>\n",
       "      <td>277862955</td>\n",
       "      <td>1233646056602</td>\n",
       "      <td>Mouse</td>\n",
       "      <td>Project3</td>\n",
       "      <td>15/04/2021</td>\n",
       "      <td>Participant1</td>\n",
       "      <td>Recording1</td>\n",
       "      <td>02/04/2021</td>\n",
       "      <td>02/04/2021</td>\n",
       "      <td>15:43:16.027</td>\n",
       "      <td>...</td>\n",
       "      <td>NaN</td>\n",
       "      <td>NaN</td>\n",
       "      <td>NaN</td>\n",
       "      <td>NaN</td>\n",
       "      <td>NaN</td>\n",
       "      <td>NaN</td>\n",
       "      <td>NaN</td>\n",
       "      <td>NaN</td>\n",
       "      <td>1373.0</td>\n",
       "      <td>692.0</td>\n",
       "    </tr>\n",
       "    <tr>\n",
       "      <th>18311</th>\n",
       "      <td>277877683</td>\n",
       "      <td>1233646071330</td>\n",
       "      <td>Eye Tracker</td>\n",
       "      <td>Project3</td>\n",
       "      <td>15/04/2021</td>\n",
       "      <td>Participant1</td>\n",
       "      <td>Recording1</td>\n",
       "      <td>02/04/2021</td>\n",
       "      <td>02/04/2021</td>\n",
       "      <td>15:43:16.027</td>\n",
       "      <td>...</td>\n",
       "      <td>NaN</td>\n",
       "      <td>NaN</td>\n",
       "      <td>NaN</td>\n",
       "      <td>NaN</td>\n",
       "      <td>NaN</td>\n",
       "      <td>NaN</td>\n",
       "      <td>NaN</td>\n",
       "      <td>NaN</td>\n",
       "      <td>NaN</td>\n",
       "      <td>NaN</td>\n",
       "    </tr>\n",
       "    <tr>\n",
       "      <th>18312</th>\n",
       "      <td>277893236</td>\n",
       "      <td>1233646086883</td>\n",
       "      <td>Mouse</td>\n",
       "      <td>Project3</td>\n",
       "      <td>15/04/2021</td>\n",
       "      <td>Participant1</td>\n",
       "      <td>Recording1</td>\n",
       "      <td>02/04/2021</td>\n",
       "      <td>02/04/2021</td>\n",
       "      <td>15:43:16.027</td>\n",
       "      <td>...</td>\n",
       "      <td>NaN</td>\n",
       "      <td>NaN</td>\n",
       "      <td>NaN</td>\n",
       "      <td>NaN</td>\n",
       "      <td>NaN</td>\n",
       "      <td>NaN</td>\n",
       "      <td>NaN</td>\n",
       "      <td>NaN</td>\n",
       "      <td>1288.0</td>\n",
       "      <td>767.0</td>\n",
       "    </tr>\n",
       "    <tr>\n",
       "      <th>18313</th>\n",
       "      <td>277894168</td>\n",
       "      <td>1233646087815</td>\n",
       "      <td>Mouse</td>\n",
       "      <td>Project3</td>\n",
       "      <td>15/04/2021</td>\n",
       "      <td>Participant1</td>\n",
       "      <td>Recording1</td>\n",
       "      <td>02/04/2021</td>\n",
       "      <td>02/04/2021</td>\n",
       "      <td>15:43:16.027</td>\n",
       "      <td>...</td>\n",
       "      <td>NaN</td>\n",
       "      <td>NaN</td>\n",
       "      <td>NaN</td>\n",
       "      <td>NaN</td>\n",
       "      <td>NaN</td>\n",
       "      <td>NaN</td>\n",
       "      <td>NaN</td>\n",
       "      <td>NaN</td>\n",
       "      <td>1287.0</td>\n",
       "      <td>769.0</td>\n",
       "    </tr>\n",
       "    <tr>\n",
       "      <th>18314</th>\n",
       "      <td>278056673</td>\n",
       "      <td>1233646250320</td>\n",
       "      <td>NaN</td>\n",
       "      <td>Project3</td>\n",
       "      <td>15/04/2021</td>\n",
       "      <td>Participant1</td>\n",
       "      <td>Recording1</td>\n",
       "      <td>02/04/2021</td>\n",
       "      <td>02/04/2021</td>\n",
       "      <td>15:43:16.027</td>\n",
       "      <td>...</td>\n",
       "      <td>NaN</td>\n",
       "      <td>NaN</td>\n",
       "      <td>NaN</td>\n",
       "      <td>NaN</td>\n",
       "      <td>NaN</td>\n",
       "      <td>NaN</td>\n",
       "      <td>NaN</td>\n",
       "      <td>NaN</td>\n",
       "      <td>NaN</td>\n",
       "      <td>NaN</td>\n",
       "    </tr>\n",
       "  </tbody>\n",
       "</table>\n",
       "<p>18315 rows × 427 columns</p>\n",
       "</div>"
      ],
      "text/plain": [
       "       Recording timestamp  Computer timestamp       Sensor Project name  \\\n",
       "0                        0       1233368193647          NaN     Project3   \n",
       "1                    19185       1233368212832  Eye Tracker     Project3   \n",
       "2                    35839       1233368229486  Eye Tracker     Project3   \n",
       "3                    65974       1233368259621  Eye Tracker     Project3   \n",
       "4                    82628       1233368276275  Eye Tracker     Project3   \n",
       "...                    ...                 ...          ...          ...   \n",
       "18310            277862955       1233646056602        Mouse     Project3   \n",
       "18311            277877683       1233646071330  Eye Tracker     Project3   \n",
       "18312            277893236       1233646086883        Mouse     Project3   \n",
       "18313            277894168       1233646087815        Mouse     Project3   \n",
       "18314            278056673       1233646250320          NaN     Project3   \n",
       "\n",
       "      Export date Participant name Recording name Recording date  \\\n",
       "0      15/04/2021     Participant1     Recording1     02/04/2021   \n",
       "1      15/04/2021     Participant1     Recording1     02/04/2021   \n",
       "2      15/04/2021     Participant1     Recording1     02/04/2021   \n",
       "3      15/04/2021     Participant1     Recording1     02/04/2021   \n",
       "4      15/04/2021     Participant1     Recording1     02/04/2021   \n",
       "...           ...              ...            ...            ...   \n",
       "18310  15/04/2021     Participant1     Recording1     02/04/2021   \n",
       "18311  15/04/2021     Participant1     Recording1     02/04/2021   \n",
       "18312  15/04/2021     Participant1     Recording1     02/04/2021   \n",
       "18313  15/04/2021     Participant1     Recording1     02/04/2021   \n",
       "18314  15/04/2021     Participant1     Recording1     02/04/2021   \n",
       "\n",
       "      Recording date UTC Recording start time  ...  \\\n",
       "0             02/04/2021         15:43:16.027  ...   \n",
       "1             02/04/2021         15:43:16.027  ...   \n",
       "2             02/04/2021         15:43:16.027  ...   \n",
       "3             02/04/2021         15:43:16.027  ...   \n",
       "4             02/04/2021         15:43:16.027  ...   \n",
       "...                  ...                  ...  ...   \n",
       "18310         02/04/2021         15:43:16.027  ...   \n",
       "18311         02/04/2021         15:43:16.027  ...   \n",
       "18312         02/04/2021         15:43:16.027  ...   \n",
       "18313         02/04/2021         15:43:16.027  ...   \n",
       "18314         02/04/2021         15:43:16.027  ...   \n",
       "\n",
       "      Client area position X (DACSpx)  Client area position Y (DACSpx)  \\\n",
       "0                                 NaN                              NaN   \n",
       "1                                 NaN                              NaN   \n",
       "2                                 NaN                              NaN   \n",
       "3                                 NaN                              NaN   \n",
       "4                                 NaN                              NaN   \n",
       "...                               ...                              ...   \n",
       "18310                             NaN                              NaN   \n",
       "18311                             NaN                              NaN   \n",
       "18312                             NaN                              NaN   \n",
       "18313                             NaN                              NaN   \n",
       "18314                             NaN                              NaN   \n",
       "\n",
       "      Viewport position X Viewport position Y Viewport width  Viewport height  \\\n",
       "0                     NaN                 NaN            NaN              NaN   \n",
       "1                     NaN                 NaN            NaN              NaN   \n",
       "2                     NaN                 NaN            NaN              NaN   \n",
       "3                     NaN                 NaN            NaN              NaN   \n",
       "4                     NaN                 NaN            NaN              NaN   \n",
       "...                   ...                 ...            ...              ...   \n",
       "18310                 NaN                 NaN            NaN              NaN   \n",
       "18311                 NaN                 NaN            NaN              NaN   \n",
       "18312                 NaN                 NaN            NaN              NaN   \n",
       "18313                 NaN                 NaN            NaN              NaN   \n",
       "18314                 NaN                 NaN            NaN              NaN   \n",
       "\n",
       "       Full page width Full page height Mouse position X  Mouse position Y  \n",
       "0                  NaN              NaN              NaN               NaN  \n",
       "1                  NaN              NaN              NaN               NaN  \n",
       "2                  NaN              NaN              NaN               NaN  \n",
       "3                  NaN              NaN              NaN               NaN  \n",
       "4                  NaN              NaN              NaN               NaN  \n",
       "...                ...              ...              ...               ...  \n",
       "18310              NaN              NaN           1373.0             692.0  \n",
       "18311              NaN              NaN              NaN               NaN  \n",
       "18312              NaN              NaN           1288.0             767.0  \n",
       "18313              NaN              NaN           1287.0             769.0  \n",
       "18314              NaN              NaN              NaN               NaN  \n",
       "\n",
       "[18315 rows x 427 columns]"
      ]
     },
     "execution_count": 4,
     "metadata": {},
     "output_type": "execute_result"
    }
   ],
   "source": [
    "data['c1']['r1']"
   ]
  },
  {
   "cell_type": "markdown",
   "metadata": {},
   "source": [
    "On découpe les données par question en cherchant les évènements marquant le début d'un stimulus"
   ]
  },
  {
   "cell_type": "code",
   "execution_count": 3,
   "metadata": {},
   "outputs": [],
   "source": [
    "events={c: {r:data[c][r]['Event'].dropna().to_dict()for r in data[c]} for c in data}\n",
    "time_stamps={c:{r:([i for i in events[c][r] if events[c][r][i]==\"ImageStimulusStart\" or events[c][r][i]==\"VideoStimulusStart\"]+[len(data[c][r])]) for r in events[c]} for c in events} "
   ]
  },
  {
   "cell_type": "code",
   "execution_count": 4,
   "metadata": {},
   "outputs": [],
   "source": [
    "df={'c1':{'r1':'','r3':'','r5':''},'c2':{'r2':'','r4':'','r6':''},'c3':{'r7':'','r8':'','r9':''}}\n",
    "for c in df:\n",
    "    for r in df[c]:\n",
    "        for i in range(10):\n",
    "            t1=time_stamps[c][r][i]\n",
    "            t2=time_stamps[c][r][i+1]\n",
    "            temp_df=data[c][r][t1:t2]\n",
    "            df[c][r]={'q'+str(i+1): data[c][r][time_stamps[c][r][i]:time_stamps[c][r][i+1]] for i in range(10)}"
   ]
  },
  {
   "cell_type": "code",
   "execution_count": 7,
   "metadata": {},
   "outputs": [
    {
     "data": {
      "text/html": [
       "<div>\n",
       "<style scoped>\n",
       "    .dataframe tbody tr th:only-of-type {\n",
       "        vertical-align: middle;\n",
       "    }\n",
       "\n",
       "    .dataframe tbody tr th {\n",
       "        vertical-align: top;\n",
       "    }\n",
       "\n",
       "    .dataframe thead th {\n",
       "        text-align: right;\n",
       "    }\n",
       "</style>\n",
       "<table border=\"1\" class=\"dataframe\">\n",
       "  <thead>\n",
       "    <tr style=\"text-align: right;\">\n",
       "      <th></th>\n",
       "      <th>Recording timestamp</th>\n",
       "      <th>Computer timestamp</th>\n",
       "      <th>Sensor</th>\n",
       "      <th>Project name</th>\n",
       "      <th>Export date</th>\n",
       "      <th>Participant name</th>\n",
       "      <th>Recording name</th>\n",
       "      <th>Recording date</th>\n",
       "      <th>Recording date UTC</th>\n",
       "      <th>Recording start time</th>\n",
       "      <th>...</th>\n",
       "      <th>Client area position X (DACSpx)</th>\n",
       "      <th>Client area position Y (DACSpx)</th>\n",
       "      <th>Viewport position X</th>\n",
       "      <th>Viewport position Y</th>\n",
       "      <th>Viewport width</th>\n",
       "      <th>Viewport height</th>\n",
       "      <th>Full page width</th>\n",
       "      <th>Full page height</th>\n",
       "      <th>Mouse position X</th>\n",
       "      <th>Mouse position Y</th>\n",
       "    </tr>\n",
       "  </thead>\n",
       "  <tbody>\n",
       "    <tr>\n",
       "      <th>5644</th>\n",
       "      <td>92230674</td>\n",
       "      <td>1233460424321</td>\n",
       "      <td>NaN</td>\n",
       "      <td>Project3</td>\n",
       "      <td>15/04/2021</td>\n",
       "      <td>Participant1</td>\n",
       "      <td>Recording1</td>\n",
       "      <td>02/04/2021</td>\n",
       "      <td>02/04/2021</td>\n",
       "      <td>15:43:16.027</td>\n",
       "      <td>...</td>\n",
       "      <td>NaN</td>\n",
       "      <td>NaN</td>\n",
       "      <td>NaN</td>\n",
       "      <td>NaN</td>\n",
       "      <td>NaN</td>\n",
       "      <td>NaN</td>\n",
       "      <td>NaN</td>\n",
       "      <td>NaN</td>\n",
       "      <td>NaN</td>\n",
       "      <td>NaN</td>\n",
       "    </tr>\n",
       "    <tr>\n",
       "      <th>5645</th>\n",
       "      <td>92246179</td>\n",
       "      <td>1233460439826</td>\n",
       "      <td>Eye Tracker</td>\n",
       "      <td>Project3</td>\n",
       "      <td>15/04/2021</td>\n",
       "      <td>Participant1</td>\n",
       "      <td>Recording1</td>\n",
       "      <td>02/04/2021</td>\n",
       "      <td>02/04/2021</td>\n",
       "      <td>15:43:16.027</td>\n",
       "      <td>...</td>\n",
       "      <td>NaN</td>\n",
       "      <td>NaN</td>\n",
       "      <td>NaN</td>\n",
       "      <td>NaN</td>\n",
       "      <td>NaN</td>\n",
       "      <td>NaN</td>\n",
       "      <td>NaN</td>\n",
       "      <td>NaN</td>\n",
       "      <td>NaN</td>\n",
       "      <td>NaN</td>\n",
       "    </tr>\n",
       "    <tr>\n",
       "      <th>5646</th>\n",
       "      <td>92262834</td>\n",
       "      <td>1233460456481</td>\n",
       "      <td>Eye Tracker</td>\n",
       "      <td>Project3</td>\n",
       "      <td>15/04/2021</td>\n",
       "      <td>Participant1</td>\n",
       "      <td>Recording1</td>\n",
       "      <td>02/04/2021</td>\n",
       "      <td>02/04/2021</td>\n",
       "      <td>15:43:16.027</td>\n",
       "      <td>...</td>\n",
       "      <td>NaN</td>\n",
       "      <td>NaN</td>\n",
       "      <td>NaN</td>\n",
       "      <td>NaN</td>\n",
       "      <td>NaN</td>\n",
       "      <td>NaN</td>\n",
       "      <td>NaN</td>\n",
       "      <td>NaN</td>\n",
       "      <td>NaN</td>\n",
       "      <td>NaN</td>\n",
       "    </tr>\n",
       "    <tr>\n",
       "      <th>5647</th>\n",
       "      <td>92279488</td>\n",
       "      <td>1233460473135</td>\n",
       "      <td>Eye Tracker</td>\n",
       "      <td>Project3</td>\n",
       "      <td>15/04/2021</td>\n",
       "      <td>Participant1</td>\n",
       "      <td>Recording1</td>\n",
       "      <td>02/04/2021</td>\n",
       "      <td>02/04/2021</td>\n",
       "      <td>15:43:16.027</td>\n",
       "      <td>...</td>\n",
       "      <td>NaN</td>\n",
       "      <td>NaN</td>\n",
       "      <td>NaN</td>\n",
       "      <td>NaN</td>\n",
       "      <td>NaN</td>\n",
       "      <td>NaN</td>\n",
       "      <td>NaN</td>\n",
       "      <td>NaN</td>\n",
       "      <td>NaN</td>\n",
       "      <td>NaN</td>\n",
       "    </tr>\n",
       "    <tr>\n",
       "      <th>5648</th>\n",
       "      <td>92296143</td>\n",
       "      <td>1233460489790</td>\n",
       "      <td>Eye Tracker</td>\n",
       "      <td>Project3</td>\n",
       "      <td>15/04/2021</td>\n",
       "      <td>Participant1</td>\n",
       "      <td>Recording1</td>\n",
       "      <td>02/04/2021</td>\n",
       "      <td>02/04/2021</td>\n",
       "      <td>15:43:16.027</td>\n",
       "      <td>...</td>\n",
       "      <td>NaN</td>\n",
       "      <td>NaN</td>\n",
       "      <td>NaN</td>\n",
       "      <td>NaN</td>\n",
       "      <td>NaN</td>\n",
       "      <td>NaN</td>\n",
       "      <td>NaN</td>\n",
       "      <td>NaN</td>\n",
       "      <td>NaN</td>\n",
       "      <td>NaN</td>\n",
       "    </tr>\n",
       "    <tr>\n",
       "      <th>...</th>\n",
       "      <td>...</td>\n",
       "      <td>...</td>\n",
       "      <td>...</td>\n",
       "      <td>...</td>\n",
       "      <td>...</td>\n",
       "      <td>...</td>\n",
       "      <td>...</td>\n",
       "      <td>...</td>\n",
       "      <td>...</td>\n",
       "      <td>...</td>\n",
       "      <td>...</td>\n",
       "      <td>...</td>\n",
       "      <td>...</td>\n",
       "      <td>...</td>\n",
       "      <td>...</td>\n",
       "      <td>...</td>\n",
       "      <td>...</td>\n",
       "      <td>...</td>\n",
       "      <td>...</td>\n",
       "      <td>...</td>\n",
       "      <td>...</td>\n",
       "    </tr>\n",
       "    <tr>\n",
       "      <th>6877</th>\n",
       "      <td>107080442</td>\n",
       "      <td>1233475274089</td>\n",
       "      <td>NaN</td>\n",
       "      <td>Project3</td>\n",
       "      <td>15/04/2021</td>\n",
       "      <td>Participant1</td>\n",
       "      <td>Recording1</td>\n",
       "      <td>02/04/2021</td>\n",
       "      <td>02/04/2021</td>\n",
       "      <td>15:43:16.027</td>\n",
       "      <td>...</td>\n",
       "      <td>NaN</td>\n",
       "      <td>NaN</td>\n",
       "      <td>NaN</td>\n",
       "      <td>NaN</td>\n",
       "      <td>NaN</td>\n",
       "      <td>NaN</td>\n",
       "      <td>NaN</td>\n",
       "      <td>NaN</td>\n",
       "      <td>NaN</td>\n",
       "      <td>NaN</td>\n",
       "    </tr>\n",
       "    <tr>\n",
       "      <th>6878</th>\n",
       "      <td>107080442</td>\n",
       "      <td>1233475274089</td>\n",
       "      <td>Mouse</td>\n",
       "      <td>Project3</td>\n",
       "      <td>15/04/2021</td>\n",
       "      <td>Participant1</td>\n",
       "      <td>Recording1</td>\n",
       "      <td>02/04/2021</td>\n",
       "      <td>02/04/2021</td>\n",
       "      <td>15:43:16.027</td>\n",
       "      <td>...</td>\n",
       "      <td>NaN</td>\n",
       "      <td>NaN</td>\n",
       "      <td>NaN</td>\n",
       "      <td>NaN</td>\n",
       "      <td>NaN</td>\n",
       "      <td>NaN</td>\n",
       "      <td>NaN</td>\n",
       "      <td>NaN</td>\n",
       "      <td>1663.0</td>\n",
       "      <td>396.0</td>\n",
       "    </tr>\n",
       "    <tr>\n",
       "      <th>6879</th>\n",
       "      <td>107085552</td>\n",
       "      <td>1233475279199</td>\n",
       "      <td>Eye Tracker</td>\n",
       "      <td>Project3</td>\n",
       "      <td>15/04/2021</td>\n",
       "      <td>Participant1</td>\n",
       "      <td>Recording1</td>\n",
       "      <td>02/04/2021</td>\n",
       "      <td>02/04/2021</td>\n",
       "      <td>15:43:16.027</td>\n",
       "      <td>...</td>\n",
       "      <td>NaN</td>\n",
       "      <td>NaN</td>\n",
       "      <td>NaN</td>\n",
       "      <td>NaN</td>\n",
       "      <td>NaN</td>\n",
       "      <td>NaN</td>\n",
       "      <td>NaN</td>\n",
       "      <td>NaN</td>\n",
       "      <td>NaN</td>\n",
       "      <td>NaN</td>\n",
       "    </tr>\n",
       "    <tr>\n",
       "      <th>6880</th>\n",
       "      <td>107102207</td>\n",
       "      <td>1233475295854</td>\n",
       "      <td>Eye Tracker</td>\n",
       "      <td>Project3</td>\n",
       "      <td>15/04/2021</td>\n",
       "      <td>Participant1</td>\n",
       "      <td>Recording1</td>\n",
       "      <td>02/04/2021</td>\n",
       "      <td>02/04/2021</td>\n",
       "      <td>15:43:16.027</td>\n",
       "      <td>...</td>\n",
       "      <td>NaN</td>\n",
       "      <td>NaN</td>\n",
       "      <td>NaN</td>\n",
       "      <td>NaN</td>\n",
       "      <td>NaN</td>\n",
       "      <td>NaN</td>\n",
       "      <td>NaN</td>\n",
       "      <td>NaN</td>\n",
       "      <td>NaN</td>\n",
       "      <td>NaN</td>\n",
       "    </tr>\n",
       "    <tr>\n",
       "      <th>6881</th>\n",
       "      <td>107115678</td>\n",
       "      <td>1233475309325</td>\n",
       "      <td>NaN</td>\n",
       "      <td>Project3</td>\n",
       "      <td>15/04/2021</td>\n",
       "      <td>Participant1</td>\n",
       "      <td>Recording1</td>\n",
       "      <td>02/04/2021</td>\n",
       "      <td>02/04/2021</td>\n",
       "      <td>15:43:16.027</td>\n",
       "      <td>...</td>\n",
       "      <td>NaN</td>\n",
       "      <td>NaN</td>\n",
       "      <td>NaN</td>\n",
       "      <td>NaN</td>\n",
       "      <td>NaN</td>\n",
       "      <td>NaN</td>\n",
       "      <td>NaN</td>\n",
       "      <td>NaN</td>\n",
       "      <td>NaN</td>\n",
       "      <td>NaN</td>\n",
       "    </tr>\n",
       "  </tbody>\n",
       "</table>\n",
       "<p>1238 rows × 427 columns</p>\n",
       "</div>"
      ],
      "text/plain": [
       "      Recording timestamp  Computer timestamp       Sensor Project name  \\\n",
       "5644             92230674       1233460424321          NaN     Project3   \n",
       "5645             92246179       1233460439826  Eye Tracker     Project3   \n",
       "5646             92262834       1233460456481  Eye Tracker     Project3   \n",
       "5647             92279488       1233460473135  Eye Tracker     Project3   \n",
       "5648             92296143       1233460489790  Eye Tracker     Project3   \n",
       "...                   ...                 ...          ...          ...   \n",
       "6877            107080442       1233475274089          NaN     Project3   \n",
       "6878            107080442       1233475274089        Mouse     Project3   \n",
       "6879            107085552       1233475279199  Eye Tracker     Project3   \n",
       "6880            107102207       1233475295854  Eye Tracker     Project3   \n",
       "6881            107115678       1233475309325          NaN     Project3   \n",
       "\n",
       "     Export date Participant name Recording name Recording date  \\\n",
       "5644  15/04/2021     Participant1     Recording1     02/04/2021   \n",
       "5645  15/04/2021     Participant1     Recording1     02/04/2021   \n",
       "5646  15/04/2021     Participant1     Recording1     02/04/2021   \n",
       "5647  15/04/2021     Participant1     Recording1     02/04/2021   \n",
       "5648  15/04/2021     Participant1     Recording1     02/04/2021   \n",
       "...          ...              ...            ...            ...   \n",
       "6877  15/04/2021     Participant1     Recording1     02/04/2021   \n",
       "6878  15/04/2021     Participant1     Recording1     02/04/2021   \n",
       "6879  15/04/2021     Participant1     Recording1     02/04/2021   \n",
       "6880  15/04/2021     Participant1     Recording1     02/04/2021   \n",
       "6881  15/04/2021     Participant1     Recording1     02/04/2021   \n",
       "\n",
       "     Recording date UTC Recording start time  ...  \\\n",
       "5644         02/04/2021         15:43:16.027  ...   \n",
       "5645         02/04/2021         15:43:16.027  ...   \n",
       "5646         02/04/2021         15:43:16.027  ...   \n",
       "5647         02/04/2021         15:43:16.027  ...   \n",
       "5648         02/04/2021         15:43:16.027  ...   \n",
       "...                 ...                  ...  ...   \n",
       "6877         02/04/2021         15:43:16.027  ...   \n",
       "6878         02/04/2021         15:43:16.027  ...   \n",
       "6879         02/04/2021         15:43:16.027  ...   \n",
       "6880         02/04/2021         15:43:16.027  ...   \n",
       "6881         02/04/2021         15:43:16.027  ...   \n",
       "\n",
       "     Client area position X (DACSpx)  Client area position Y (DACSpx)  \\\n",
       "5644                             NaN                              NaN   \n",
       "5645                             NaN                              NaN   \n",
       "5646                             NaN                              NaN   \n",
       "5647                             NaN                              NaN   \n",
       "5648                             NaN                              NaN   \n",
       "...                              ...                              ...   \n",
       "6877                             NaN                              NaN   \n",
       "6878                             NaN                              NaN   \n",
       "6879                             NaN                              NaN   \n",
       "6880                             NaN                              NaN   \n",
       "6881                             NaN                              NaN   \n",
       "\n",
       "     Viewport position X Viewport position Y Viewport width  Viewport height  \\\n",
       "5644                 NaN                 NaN            NaN              NaN   \n",
       "5645                 NaN                 NaN            NaN              NaN   \n",
       "5646                 NaN                 NaN            NaN              NaN   \n",
       "5647                 NaN                 NaN            NaN              NaN   \n",
       "5648                 NaN                 NaN            NaN              NaN   \n",
       "...                  ...                 ...            ...              ...   \n",
       "6877                 NaN                 NaN            NaN              NaN   \n",
       "6878                 NaN                 NaN            NaN              NaN   \n",
       "6879                 NaN                 NaN            NaN              NaN   \n",
       "6880                 NaN                 NaN            NaN              NaN   \n",
       "6881                 NaN                 NaN            NaN              NaN   \n",
       "\n",
       "      Full page width Full page height Mouse position X  Mouse position Y  \n",
       "5644              NaN              NaN              NaN               NaN  \n",
       "5645              NaN              NaN              NaN               NaN  \n",
       "5646              NaN              NaN              NaN               NaN  \n",
       "5647              NaN              NaN              NaN               NaN  \n",
       "5648              NaN              NaN              NaN               NaN  \n",
       "...               ...              ...              ...               ...  \n",
       "6877              NaN              NaN              NaN               NaN  \n",
       "6878              NaN              NaN           1663.0             396.0  \n",
       "6879              NaN              NaN              NaN               NaN  \n",
       "6880              NaN              NaN              NaN               NaN  \n",
       "6881              NaN              NaN              NaN               NaN  \n",
       "\n",
       "[1238 rows x 427 columns]"
      ]
     },
     "execution_count": 7,
     "metadata": {},
     "output_type": "execute_result"
    }
   ],
   "source": [
    "df['c1']['r1']['q1']"
   ]
  },
  {
   "cell_type": "markdown",
   "metadata": {},
   "source": [
    "# Extraction des AOI"
   ]
  },
  {
   "cell_type": "markdown",
   "metadata": {},
   "source": [
    "Nous avons rencontré un problème dans le traitement des AOI (globalement le traitement ne s'est pas effectué, les données n'ont pas été enregistrées)\n",
    "Nous allons donc traiter les AOI de manière \"artisanale\""
   ]
  },
  {
   "cell_type": "code",
   "execution_count": 5,
   "metadata": {},
   "outputs": [],
   "source": [
    "import matplotlib.pyplot as plt\n",
    "import matplotlib.image as mpimg"
   ]
  },
  {
   "cell_type": "code",
   "execution_count": 6,
   "metadata": {},
   "outputs": [],
   "source": [
    "img = {'c'+str(i): {'q'+str(j): mpimg.imread('c'+str(i)+'q'+str(j)+'.png') for j in range(1,11)}for i in range(1,4)}"
   ]
  },
  {
   "cell_type": "code",
   "execution_count": 7,
   "metadata": {},
   "outputs": [],
   "source": [
    "import numpy as np"
   ]
  },
  {
   "cell_type": "markdown",
   "metadata": {},
   "source": [
    "Nous avons créé des images où chaque couleur représente une AOI\n",
    "Nous allons stocker ces couleurs dans echantillon_couleurs dont "
   ]
  },
  {
   "cell_type": "code",
   "execution_count": 8,
   "metadata": {},
   "outputs": [],
   "source": [
    "echantillons={}\n",
    "for i in range(1,4):\n",
    "    echantillons['c'+str(i)]={}\n",
    "    for j in range(1,11):\n",
    "        echantillons['c'+str(i)]['q'+str(i)]=[]\n",
    "echantillons_couleurs={}\n",
    "for i in range(1,4):\n",
    "    echantillons_couleurs['c'+str(i)]={}\n",
    "    for j in range(1,11):\n",
    "        echantillons_couleurs['c'+str(i)]['q'+str(i)]=[]"
   ]
  },
  {
   "cell_type": "code",
   "execution_count": 129,
   "metadata": {},
   "outputs": [
    {
     "data": {
      "image/png": "[encoded data removed]",
      "text/plain": [
       "<Figure size 432x288 with 1 Axes>"
      ]
     },
     "metadata": {
      "needs_background": "light"
     },
     "output_type": "display_data"
    }
   ],
   "source": [
    "c='c2'\n",
    "q='q5'\n",
    "if (c=='c1'):\n",
    "    echantillons[c][q]=[[250,450,650,250,450,650,250,450,650,1150,1400,1650,1150,1400,1650],[300,300,300,500,500,500,700,700,700,400,400,400,650,650,650]]\n",
    "elif (c=='c2'):\n",
    "    echantillons[c][q]=[[1200,710,780,850,710,780,850,710,780,850,1020,1120,1220,1020,1120,1220],[350,450,450,450,550,550,550,610,610,610,480,480,480,580,580,580]]\n",
    "elif (c=='c3'):\n",
    "    echantillons[c][q]=[[1200,610,700,800,610,700,800,610,700,800,1020,1150,1300,1020,1150,1300],[300,450,450,450,550,550,550,630,630,630,480,480,480,580,580,580]]\n",
    "\n",
    "fig, ax = plt.subplots()\n",
    "ax.imshow(img[c][q])\n",
    "x=echantillons[c][q][0]\n",
    "y=echantillons[c][q][1]\n",
    "ax.scatter(echantillons[c][q][0],y,label=range(len(echantillons)), color=\"white\", linewidth=3, s=5)\n",
    "\n",
    "for i in range(len(echantillons[c][q][0])):\n",
    "    ax.annotate(i+1, (x[i], y[i]), color='white')\n",
    "if (c=='c2'): \n",
    "    plt.xlim(600, 1300)\n",
    "    plt.ylim(800, 250)\n",
    "elif (c=='c3'):\n",
    "    plt.xlim(450, 1450)\n",
    "    plt.ylim(800, 150)\n",
    "plt.show()\n"
   ]
  },
  {
   "cell_type": "code",
   "execution_count": 130,
   "metadata": {},
   "outputs": [],
   "source": [
    "echantillons_couleurs[c][q]=[img[c][q][j][i] for i,j in zip(echantillons[c][q][0],echantillons[c][q][1])]"
   ]
  },
  {
   "cell_type": "code",
   "execution_count": 106,
   "metadata": {},
   "outputs": [
    {
     "data": {
      "text/plain": [
       "[array([0.59607846, 0.36862746, 0.1254902 ], dtype=float32),\n",
       " array([0.49411765, 0.6627451 , 0.23137255], dtype=float32),\n",
       " array([0.07450981, 0.09019608, 0.4       ], dtype=float32),\n",
       " array([1.        , 0.28627452, 0.5372549 ], dtype=float32),\n",
       " array([0.07058824, 1.        , 0.        ], dtype=float32),\n",
       " array([1.        , 0.        , 0.44705883], dtype=float32),\n",
       " array([1.        , 0.7490196 , 0.42352942], dtype=float32),\n",
       " array([0.32941177, 0.        , 1.        ], dtype=float32),\n",
       " array([1., 0., 0.], dtype=float32),\n",
       " array([1.        , 0.        , 0.11764706], dtype=float32),\n",
       " array([0.8, 0. , 1. ], dtype=float32),\n",
       " array([0.        , 0.02352941, 1.        ], dtype=float32),\n",
       " array([0.        , 1.        , 0.84705883], dtype=float32),\n",
       " array([1.        , 0.25882354, 0.        ], dtype=float32),\n",
       " array([1.       , 0.9411765, 0.       ], dtype=float32)]"
      ]
     },
     "execution_count": 106,
     "metadata": {},
     "output_type": "execute_result"
    }
   ],
   "source": [
    "echantillons_couleurs[c][q]"
   ]
  },
  {
   "cell_type": "markdown",
   "metadata": {},
   "source": [
    "On crée un tableau pour chaque image (rangées par condition et question) où on stocke pour chaque pixel s'il appartient à l'AOI ou non et à laquelle (d'après sa couleur)"
   ]
  },
  {
   "cell_type": "code",
   "execution_count": 100,
   "metadata": {},
   "outputs": [],
   "source": [
    "aoi={}\n",
    "for c0 in df:\n",
    "    aoi[c0]={}\n",
    "    for q0 in ['q'+str(i) for i in range(1,11)]:\n",
    "        aoi[c0][q0]=[]\n",
    "        for i in range(len(img[c0][q0])):\n",
    "            aoi[c0][q0].append([])\n",
    "            for j in range(len(img[c0][q0][i])):\n",
    "                aoi[c0][q0][i].append(0)"
   ]
  },
  {
   "cell_type": "markdown",
   "metadata": {},
   "source": [
    "Par exemple je veux que pour la condition1, question1 le pixel (500,500) soit dans l'AOI n°5\n",
    "\n",
    "Le code prend quelques minutes à s'executer. Si voulez seulement consulter les valeurs utilisez plutôt les fichiers json (voir un peu plus bas)"
   ]
  },
  {
   "cell_type": "code",
   "execution_count": null,
   "metadata": {},
   "outputs": [],
   "source": [
    "for i in range(len(aoi[c][q])):\n",
    "    for j in range(len(aoi[c][q][i])):\n",
    "        for k in range(len(echantillons_couleurs[c][q])):\n",
    "            couleur_ref=echantillons_couleurs[c][q][k]\n",
    "            pixel=img[c][q][i][j]\n",
    "            if np.all([couleur_ref[l]==pixel[l] for l in range(3)]):\n",
    "                #range(3) parce que chaque pixel contient les 3 valeurs RGB\n",
    "                      aoi[c][q][i][j]=k+1\n",
    "\n",
    "              "
   ]
  },
  {
   "cell_type": "markdown",
   "metadata": {},
   "source": [
    "Enregistrer ou importer les données"
   ]
  },
  {
   "cell_type": "code",
   "execution_count": 125,
   "metadata": {},
   "outputs": [],
   "source": [
    "import json\n",
    "with open('aoi/aoi'+str(c)+str(q)+'.json', 'w') as outfile:\n",
    "    json.dump(aoi[c][q], outfile)  "
   ]
  },
  {
   "cell_type": "code",
   "execution_count": 126,
   "metadata": {},
   "outputs": [],
   "source": [
    "with open('aoi/aoi'+str(c)+str(q)+'.json') as json_file:\n",
    "    aoi[c][q] = json.load(json_file)"
   ]
  },
  {
   "cell_type": "markdown",
   "metadata": {},
   "source": [
    "On peut tester qu'une cellule contient bien à l'AOI correspondante"
   ]
  },
  {
   "cell_type": "code",
   "execution_count": 127,
   "metadata": {},
   "outputs": [
    {
     "data": {
      "text/plain": [
       "1"
      ]
     },
     "execution_count": 127,
     "metadata": {},
     "output_type": "execute_result"
    }
   ],
   "source": [
    "aoi[c][q][400][250]"
   ]
  },
  {
   "cell_type": "code",
   "execution_count": 128,
   "metadata": {},
   "outputs": [
    {
     "data": {
      "text/plain": [
       "10"
      ]
     },
     "execution_count": 128,
     "metadata": {},
     "output_type": "execute_result"
    }
   ],
   "source": [
    "aoi[c][q][400][1200]"
   ]
  },
  {
   "cell_type": "markdown",
   "metadata": {},
   "source": [
    "## AOI Gaze"
   ]
  },
  {
   "cell_type": "markdown",
   "metadata": {},
   "source": [
    "Maintenant on souhaite étiqueter les gaze point pour savoir si la personne regardait une des aera of interest. On ajoute une colonne AOI à nos données pour chaque question et enregistrement."
   ]
  },
  {
   "cell_type": "code",
   "execution_count": 19,
   "metadata": {},
   "outputs": [],
   "source": [
    "aoi_recording={}\n",
    "for c0 in df:\n",
    "    aoi_recording[c0]={}\n",
    "    for r0 in df[c0]:\n",
    "        aoi_recording[c0][r0]={}\n",
    "        for q0 in df[c0][r0]:\n",
    "            aoi_recording[c0][r0][q0]=[]"
   ]
  },
  {
   "cell_type": "code",
   "execution_count": 20,
   "metadata": {},
   "outputs": [
    {
     "data": {
      "text/plain": [
       "\"c='c1'\\nq='q1'\\nfor r in df[c]:\\n    x=df[c][r][q]['Gaze point X'].fillna(0)\\n    y=df[c][r][q]['Gaze point Y'].fillna(0)\\n    aoi_recording[c][r][q]=[aoi[c][q][int(j)][int(i)] for i,j in zip(x,y) if ((0<j)and(j<1080) and (0<i) and (i<1920))]\""
      ]
     },
     "execution_count": 20,
     "metadata": {},
     "output_type": "execute_result"
    }
   ],
   "source": [
    "\"\"\"c='c1'\n",
    "q='q1'\n",
    "for r in df[c]:\n",
    "    x=df[c][r][q]['Gaze point X'].fillna(0)\n",
    "    y=df[c][r][q]['Gaze point Y'].fillna(0)\n",
    "    aoi_recording[c][r][q]=[aoi[c][q][int(j)][int(i)] for i,j in zip(x,y) if ((0<j)and(j<1080) and (0<i) and (i<1920))]\"\"\""
   ]
  },
  {
   "cell_type": "markdown",
   "metadata": {},
   "source": [
    "On stocke ces données aussi dans un fichier"
   ]
  },
  {
   "cell_type": "code",
   "execution_count": 21,
   "metadata": {},
   "outputs": [],
   "source": [
    "for r in df[c]:\n",
    "    with open('aoi/aoi_recording'+str(c)+str(r)+str(q)+'.json', 'w') as outfile:\n",
    "        json.dump(aoi_recording[c][r][q], outfile)  "
   ]
  },
  {
   "cell_type": "code",
   "execution_count": 22,
   "metadata": {},
   "outputs": [],
   "source": [
    "with open('aoi/aoi'+str(c)+str(q)+'.json') as json_file:\n",
    "    aoi_recording[c][r][q] = json.load(json_file)"
   ]
  },
  {
   "cell_type": "markdown",
   "metadata": {},
   "source": [
    "Exemple de valeurs issues des AOI pour la question 1 condition 1"
   ]
  },
  {
   "cell_type": "code",
   "execution_count": 23,
   "metadata": {},
   "outputs": [],
   "source": [
    "unique, counts = np.unique(aoi_recording[c]['r1'][q], return_counts=True)"
   ]
  },
  {
   "cell_type": "code",
   "execution_count": 24,
   "metadata": {},
   "outputs": [
    {
     "data": {
      "image/png": "[encoded data removed]",
      "text/plain": [
       "<Figure size 432x288 with 1 Axes>"
      ]
     },
     "metadata": {
      "needs_background": "light"
     },
     "output_type": "display_data"
    }
   ],
   "source": [
    "plt.bar(unique,counts)\n",
    "plt.show()"
   ]
  },
  {
   "cell_type": "markdown",
   "metadata": {},
   "source": [
    "## AOI Click"
   ]
  },
  {
   "cell_type": "markdown",
   "metadata": {},
   "source": [
    "Pour recueillir les réponses aux exercices des utilisateurs on va procéder d'une manière similaire en collectant les coordonnées des clics pour les étiqueter"
   ]
  },
  {
   "cell_type": "code",
   "execution_count": 25,
   "metadata": {},
   "outputs": [],
   "source": [
    "#On retire tous les évènements durant la calibration et les instructions\n",
    "for c in events:\n",
    "    for r in events[c]:\n",
    "        temp=list(events[c][r].keys())\n",
    "        i=0\n",
    "        while i < len(temp) and \"Stimulus\" not in events[c][r][temp[i]]:\n",
    "            i+=1\n",
    "        events[c][r]={k : events[c][r][k] for k in temp if k>=temp[i] }"
   ]
  },
  {
   "cell_type": "code",
   "execution_count": 26,
   "metadata": {},
   "outputs": [
    {
     "data": {
      "text/plain": [
       "{5644: 'ImageStimulusStart',\n",
       " 6877: 'MouseEvent',\n",
       " 6881: 'ImageStimulusEnd',\n",
       " 6882: 'ImageStimulusStart',\n",
       " 6887: 'MouseEvent',\n",
       " 7690: 'MouseEvent',\n",
       " 7693: 'ImageStimulusEnd',\n",
       " 7694: 'ImageStimulusStart',\n",
       " 7701: 'MouseEvent',\n",
       " 8668: 'MouseEvent',\n",
       " 8672: 'ImageStimulusEnd',\n",
       " 8673: 'ImageStimulusStart',\n",
       " 8677: 'MouseEvent',\n",
       " 10146: 'MouseEvent',\n",
       " 10150: 'ImageStimulusEnd',\n",
       " 10151: 'ImageStimulusStart',\n",
       " 10156: 'MouseEvent',\n",
       " 10821: 'MouseEvent',\n",
       " 10824: 'ImageStimulusEnd',\n",
       " 10825: 'ImageStimulusStart',\n",
       " 10830: 'MouseEvent',\n",
       " 12562: 'MouseEvent',\n",
       " 12565: 'ImageStimulusEnd',\n",
       " 12566: 'ImageStimulusStart',\n",
       " 12571: 'MouseEvent',\n",
       " 15063: 'MouseEvent',\n",
       " 15067: 'ImageStimulusEnd',\n",
       " 15068: 'ImageStimulusStart',\n",
       " 15072: 'MouseEvent',\n",
       " 15797: 'MouseEvent',\n",
       " 15803: 'ImageStimulusEnd',\n",
       " 15804: 'ImageStimulusStart',\n",
       " 15813: 'MouseEvent',\n",
       " 17120: 'MouseEvent',\n",
       " 17125: 'ImageStimulusEnd',\n",
       " 17126: 'ImageStimulusStart',\n",
       " 17132: 'MouseEvent',\n",
       " 18247: 'MouseEvent',\n",
       " 18251: 'ImageStimulusEnd',\n",
       " 18309: 'MouseEvent',\n",
       " 18314: 'RecordingEnd'}"
      ]
     },
     "execution_count": 26,
     "metadata": {},
     "output_type": "execute_result"
    }
   ],
   "source": [
    "events['c1']['r1']"
   ]
  },
  {
   "cell_type": "code",
   "execution_count": 27,
   "metadata": {},
   "outputs": [],
   "source": [
    "m={}\n",
    "c='c1'\n",
    "r='r1'\n",
    "for c in events:\n",
    "    m[c]={}\n",
    "    for r in events[c]:\n",
    "        m[c][r]=[i for i in events[c][r] if events[c][r][i]=='MouseEvent']"
   ]
  },
  {
   "cell_type": "code",
   "execution_count": 28,
   "metadata": {},
   "outputs": [
    {
     "data": {
      "text/plain": [
       "{4496: 'VideoStimulusStart',\n",
       " 6569: 'VideoStimulusEnd',\n",
       " 6570: 'VideoStimulusStart',\n",
       " 7340: 'MouseEvent',\n",
       " 7347: 'VideoStimulusEnd',\n",
       " 7348: 'VideoStimulusStart',\n",
       " 7352: 'MouseEvent',\n",
       " 8413: 'MouseEvent',\n",
       " 8419: 'VideoStimulusEnd',\n",
       " 8420: 'VideoStimulusStart',\n",
       " 8424: 'MouseEvent',\n",
       " 9231: 'MouseEvent',\n",
       " 9237: 'VideoStimulusEnd',\n",
       " 9238: 'VideoStimulusStart',\n",
       " 9242: 'MouseEvent',\n",
       " 10657: 'MouseEvent',\n",
       " 10663: 'VideoStimulusEnd',\n",
       " 10664: 'VideoStimulusStart',\n",
       " 10668: 'MouseEvent',\n",
       " 11705: 'MouseEvent',\n",
       " 11712: 'VideoStimulusEnd',\n",
       " 11713: 'VideoStimulusStart',\n",
       " 11716: 'MouseEvent',\n",
       " 13361: 'MouseEvent',\n",
       " 13367: 'VideoStimulusEnd',\n",
       " 13368: 'VideoStimulusStart',\n",
       " 13372: 'MouseEvent',\n",
       " 13958: 'MouseEvent',\n",
       " 13965: 'VideoStimulusEnd',\n",
       " 13966: 'VideoStimulusStart',\n",
       " 13968: 'MouseEvent',\n",
       " 14587: 'MouseEvent',\n",
       " 14595: 'VideoStimulusEnd',\n",
       " 14596: 'VideoStimulusStart',\n",
       " 14602: 'MouseEvent',\n",
       " 16483: 'VideoStimulusEnd',\n",
       " 16545: 'RecordingEnd'}"
      ]
     },
     "execution_count": 28,
     "metadata": {},
     "output_type": "execute_result"
    }
   ],
   "source": [
    "events['c2']['r6']"
   ]
  },
  {
   "cell_type": "code",
   "execution_count": 29,
   "metadata": {},
   "outputs": [],
   "source": [
    "mouse_click={}\n",
    "for c in m:\n",
    "    mouse_click[c]={}\n",
    "    for r in m[c]:\n",
    "        mouse_click[c][r]={}\n",
    "        for j in m[c][r]:\n",
    "            i=0\n",
    "            found = j <time_stamps[c][r][i]\n",
    "            while i<(len(time_stamps[c][r])) and not found:\n",
    "                i+=1\n",
    "                found = j <time_stamps[c][r][i]\n",
    "            if j>time_stamps[c][r][0]:\n",
    "                mouse_click[c][r]['q'+str(i)]=j"
   ]
  },
  {
   "cell_type": "code",
   "execution_count": 30,
   "metadata": {},
   "outputs": [
    {
     "data": {
      "text/plain": [
       "{'c1': {'r1': {'q1': 6877,\n",
       "   'q2': 7690,\n",
       "   'q3': 8668,\n",
       "   'q4': 10146,\n",
       "   'q5': 10821,\n",
       "   'q6': 12562,\n",
       "   'q7': 15063,\n",
       "   'q8': 15797,\n",
       "   'q9': 17120,\n",
       "   'q10': 18309},\n",
       "  'r3': {'q1': 5660,\n",
       "   'q2': 6315,\n",
       "   'q3': 6844,\n",
       "   'q4': 8028,\n",
       "   'q5': 8594,\n",
       "   'q6': 10321,\n",
       "   'q7': 12568,\n",
       "   'q8': 13894,\n",
       "   'q9': 15801,\n",
       "   'q10': 18472},\n",
       "  'r5': {'q1': 8889,\n",
       "   'q2': 9761,\n",
       "   'q3': 11022,\n",
       "   'q4': 13244,\n",
       "   'q5': 16939,\n",
       "   'q6': 20719,\n",
       "   'q7': 25985,\n",
       "   'q8': 29507,\n",
       "   'q9': 31602,\n",
       "   'q10': 34005}},\n",
       " 'c2': {'r2': {'q1': 7049,\n",
       "   'q2': 7421,\n",
       "   'q3': 8262,\n",
       "   'q4': 8277,\n",
       "   'q5': 10954,\n",
       "   'q6': 11924,\n",
       "   'q7': 13029,\n",
       "   'q8': 14631,\n",
       "   'q9': 15344,\n",
       "   'q10': 17262},\n",
       "  'r4': {'q1': 5368,\n",
       "   'q2': 6381,\n",
       "   'q3': 6390,\n",
       "   'q4': 9652,\n",
       "   'q5': 11065,\n",
       "   'q6': 12117,\n",
       "   'q7': 13058,\n",
       "   'q8': 14365,\n",
       "   'q9': 15493,\n",
       "   'q10': 16305},\n",
       "  'r6': {'q2': 7340,\n",
       "   'q3': 8413,\n",
       "   'q4': 9231,\n",
       "   'q5': 10657,\n",
       "   'q6': 11705,\n",
       "   'q7': 13361,\n",
       "   'q8': 13958,\n",
       "   'q9': 14587,\n",
       "   'q10': 14602}},\n",
       " 'c3': {'r7': {'q1': 4769,\n",
       "   'q2': 5193,\n",
       "   'q3': 6239,\n",
       "   'q4': 9272,\n",
       "   'q5': 9840,\n",
       "   'q6': 14081,\n",
       "   'q7': 18782,\n",
       "   'q8': 20708,\n",
       "   'q9': 22458,\n",
       "   'q10': 25484},\n",
       "  'r8': {'q1': 6816,\n",
       "   'q2': 7240,\n",
       "   'q3': 7959,\n",
       "   'q4': 11854,\n",
       "   'q5': 12946,\n",
       "   'q6': 15061,\n",
       "   'q7': 18736,\n",
       "   'q8': 20033,\n",
       "   'q9': 21641,\n",
       "   'q10': 23109},\n",
       "  'r9': {'q1': 5545,\n",
       "   'q2': 5933,\n",
       "   'q3': 6679,\n",
       "   'q4': 9824,\n",
       "   'q5': 11311,\n",
       "   'q6': 12983,\n",
       "   'q7': 15048,\n",
       "   'q8': 16539,\n",
       "   'q9': 18245,\n",
       "   'q10': 21019}}}"
      ]
     },
     "execution_count": 30,
     "metadata": {},
     "output_type": "execute_result"
    }
   ],
   "source": [
    "mouse_click"
   ]
  },
  {
   "cell_type": "code",
   "execution_count": 31,
   "metadata": {},
   "outputs": [],
   "source": [
    "click={}\n",
    "for c in mouse_click:\n",
    "    click[c]={}\n",
    "    for r in mouse_click[c]:\n",
    "        click[c][r]={}\n",
    "        for q in mouse_click[c][r]:\n",
    "            event=mouse_click[c][r][q]\n",
    "            x=df[c][r][q]['Mouse position X'][event+1]\n",
    "            y=df[c][r][q]['Mouse position Y'][event+1]\n",
    "            click[c][r][q]=(x,y)"
   ]
  },
  {
   "cell_type": "code",
   "execution_count": 32,
   "metadata": {},
   "outputs": [
    {
     "data": {
      "text/plain": [
       "{'c1': {'r1': {'q1': (1663.0, 396.0),\n",
       "   'q2': (1561.0, 705.0),\n",
       "   'q3': (1657.0, 453.0),\n",
       "   'q4': (1161.0, 648.0),\n",
       "   'q5': (1639.0, 467.0),\n",
       "   'q6': (1682.0, 404.0),\n",
       "   'q7': (1618.0, 621.0),\n",
       "   'q8': (1381.0, 681.0),\n",
       "   'q9': (1388.0, 662.0),\n",
       "   'q10': (1373.0, 692.0)},\n",
       "  'r3': {'q1': (1639.0, 368.0),\n",
       "   'q2': (1563.0, 671.0),\n",
       "   'q3': (1627.0, 426.0),\n",
       "   'q4': (1402.0, 675.0),\n",
       "   'q5': (1635.0, 432.0),\n",
       "   'q6': (1376.0, 370.0),\n",
       "   'q7': (1619.0, 412.0),\n",
       "   'q8': (1642.0, 432.0),\n",
       "   'q9': (1417.0, 689.0),\n",
       "   'q10': (1615.0, 425.0)},\n",
       "  'r5': {'q1': (1686.0, 376.0),\n",
       "   'q2': (1582.0, 674.0),\n",
       "   'q3': (1690.0, 339.0),\n",
       "   'q4': (1444.0, 593.0),\n",
       "   'q5': (1369.0, 627.0),\n",
       "   'q6': (1387.0, 389.0),\n",
       "   'q7': (1198.0, 597.0),\n",
       "   'q8': (1690.0, 598.0),\n",
       "   'q9': (1227.0, 615.0),\n",
       "   'q10': (1608.0, 393.0)}},\n",
       " 'c2': {'r2': {'q1': (1113.0, 572.0),\n",
       "   'q2': (1186.0, 589.0),\n",
       "   'q3': (1215.0, 484.0),\n",
       "   'q4': (1215.0, 484.0),\n",
       "   'q5': (1186.0, 484.0),\n",
       "   'q6': (1122.0, 574.0),\n",
       "   'q7': (1224.0, 498.0),\n",
       "   'q8': (1137.0, 582.0),\n",
       "   'q9': (1063.0, 580.0),\n",
       "   'q10': (1208.0, 485.0)},\n",
       "  'r4': {'q1': (1203.0, 458.0),\n",
       "   'q2': (1191.0, 590.0),\n",
       "   'q3': (1191.0, 590.0),\n",
       "   'q4': (1030.0, 488.0),\n",
       "   'q5': (1205.0, 486.0),\n",
       "   'q6': (1131.0, 576.0),\n",
       "   'q7': (1137.0, 499.0),\n",
       "   'q8': (1154.0, 564.0),\n",
       "   'q9': (1057.0, 576.0),\n",
       "   'q10': (1119.0, 584.0)},\n",
       "  'r6': {'q2': (1195.0, 609.0),\n",
       "   'q3': (1213.0, 500.0),\n",
       "   'q4': (1117.0, 509.0),\n",
       "   'q5': (1203.0, 511.0),\n",
       "   'q6': (1131.0, 502.0),\n",
       "   'q7': (1115.0, 594.0),\n",
       "   'q8': (1212.0, 582.0),\n",
       "   'q9': (1124.0, 566.0),\n",
       "   'q10': (1123.0, 566.0)}},\n",
       " 'c3': {'r7': {'q1': (1025.0, 590.0),\n",
       "   'q2': (1232.0, 579.0),\n",
       "   'q3': (1307.0, 465.0),\n",
       "   'q4': (1189.0, 478.0),\n",
       "   'q5': (1301.0, 497.0),\n",
       "   'q6': (1296.0, 464.0),\n",
       "   'q7': (1155.0, 576.0),\n",
       "   'q8': (1187.0, 569.0),\n",
       "   'q9': (1097.0, 587.0),\n",
       "   'q10': (1267.0, 485.0)},\n",
       "  'r8': {'q1': (1312.0, 457.0),\n",
       "   'q2': (1317.0, 587.0),\n",
       "   'q3': (1308.0, 437.0),\n",
       "   'q4': (1308.0, 474.0),\n",
       "   'q5': (1308.0, 474.0),\n",
       "   'q6': (1344.0, 466.0),\n",
       "   'q7': (1331.0, 468.0),\n",
       "   'q8': (1214.0, 577.0),\n",
       "   'q9': (1085.0, 577.0),\n",
       "   'q10': (1280.0, 473.0)},\n",
       "  'r9': {'q1': (1342.0, 426.0),\n",
       "   'q2': (1284.0, 599.0),\n",
       "   'q3': (1310.0, 470.0),\n",
       "   'q4': (1041.0, 473.0),\n",
       "   'q5': (1323.0, 472.0),\n",
       "   'q6': (1166.0, 466.0),\n",
       "   'q7': (1195.0, 594.0),\n",
       "   'q8': (1211.0, 580.0),\n",
       "   'q9': (1083.0, 585.0),\n",
       "   'q10': (1186.0, 470.0)}}}"
      ]
     },
     "execution_count": 32,
     "metadata": {},
     "output_type": "execute_result"
    }
   ],
   "source": [
    "click"
   ]
  },
  {
   "cell_type": "code",
   "execution_count": 33,
   "metadata": {},
   "outputs": [],
   "source": [
    "aoi_click_recording={}\n",
    "c='c1'\n",
    "q='q1'\n",
    "for c0 in df:\n",
    "    aoi_click_recording[c0]={}\n",
    "    for r0 in df[c0]:\n",
    "        aoi_click_recording[c0][r0]={}\n",
    "for r in aoi_click_recording[c]:\n",
    "    y=int(click[c][r][q][1])\n",
    "    x=int(click[c][r][q][0])\n",
    "    aoi_click_recording[c][r][q]=aoi[c][q][y][x]\n",
    "    "
   ]
  },
  {
   "cell_type": "code",
   "execution_count": 34,
   "metadata": {},
   "outputs": [
    {
     "data": {
      "text/plain": [
       "{'c1': {'r1': {'q1': 0}, 'r3': {'q1': 0}, 'r5': {'q1': 0}},\n",
       " 'c2': {'r2': {}, 'r4': {}, 'r6': {}},\n",
       " 'c3': {'r7': {}, 'r8': {}, 'r9': {}}}"
      ]
     },
     "execution_count": 34,
     "metadata": {},
     "output_type": "execute_result"
    }
   ],
   "source": [
    "aoi_click_recording"
   ]
  },
  {
   "cell_type": "code",
   "execution_count": 35,
   "metadata": {},
   "outputs": [
    {
     "data": {
      "text/plain": [
       "{'r2': {}, 'r4': {}, 'r6': {}}"
      ]
     },
     "execution_count": 35,
     "metadata": {},
     "output_type": "execute_result"
    }
   ],
   "source": [
    "aoi_click_recording['c2']"
   ]
  },
  {
   "cell_type": "markdown",
   "metadata": {},
   "source": [
    "## Evaluation des réponses"
   ]
  },
  {
   "cell_type": "markdown",
   "metadata": {},
   "source": [
    "Rappel de l'organisation des AOI"
   ]
  },
  {
   "cell_type": "code",
   "execution_count": 36,
   "metadata": {},
   "outputs": [
    {
     "data": {
      "image/png": "[encoded data removed]",
      "text/plain": [
       "<Figure size 432x288 with 1 Axes>"
      ]
     },
     "metadata": {
      "needs_background": "light"
     },
     "output_type": "display_data"
    }
   ],
   "source": [
    "c='c1'\n",
    "q='q1'\n",
    "echantillons[c][q]=[[300,450,650,300,450,650,300,450,650,1050,1300,1650,1050,1300,1650],[300,300,300,500,500,500,700,700,700,400,400,400,700,700,700]]\n",
    "fig, ax = plt.subplots()\n",
    "ax.imshow(img[c][q])\n",
    "x=echantillons[c][q][0]\n",
    "y=echantillons[c][q][1]\n",
    "ax.scatter(echantillons[c][q][0],y,label=range(len(echantillons)), color=\"white\", linewidth=3, s=5)\n",
    "for i in range(len(echantillons[c][q][0])):\n",
    "    ax.annotate(i+1, (x[i], y[i]), color='white')\n",
    "plt.show()"
   ]
  },
  {
   "cell_type": "markdown",
   "metadata": {},
   "source": [
    "On entre donc ici la bonne réponse aux différentes questions"
   ]
  },
  {
   "cell_type": "code",
   "execution_count": 37,
   "metadata": {},
   "outputs": [],
   "source": [
    "bonne_reponse={}\n",
    "for c in ('c1','c2','c3'):\n",
    "    bonne_reponse[c]={}\n",
    "bonne_reponse['c1']['q1']=12\n",
    "            "
   ]
  },
  {
   "cell_type": "markdown",
   "metadata": {},
   "source": [
    "On evalue la réponse des participants"
   ]
  },
  {
   "cell_type": "code",
   "execution_count": 38,
   "metadata": {},
   "outputs": [],
   "source": [
    "evaluation={}\n",
    "for c in df:\n",
    "    evaluation[c]={}\n",
    "    for r in df[c]:\n",
    "        evaluation[c][r]={}\n",
    "for c in aoi_click_recording:\n",
    "    for r in aoi_click_recording[c]:\n",
    "        for q,v in aoi_click_recording[c][r].items():\n",
    "            evaluation[c][r][q]= 1 if (v==bonne_reponse[c][q]) else 0\n",
    "    "
   ]
  },
  {
   "cell_type": "code",
   "execution_count": 39,
   "metadata": {},
   "outputs": [
    {
     "data": {
      "text/plain": [
       "{'c1': {'r1': {'q1': 0}, 'r3': {'q1': 0}, 'r5': {'q1': 0}},\n",
       " 'c2': {'r2': {}, 'r4': {}, 'r6': {}},\n",
       " 'c3': {'r7': {}, 'r8': {}, 'r9': {}}}"
      ]
     },
     "execution_count": 39,
     "metadata": {},
     "output_type": "execute_result"
    }
   ],
   "source": [
    "evaluation"
   ]
  },
  {
   "cell_type": "markdown",
   "metadata": {},
   "source": [
    "# Extraction des trajectoires "
   ]
  },
  {
   "cell_type": "code",
   "execution_count": 43,
   "metadata": {},
   "outputs": [
    {
     "ename": "TypeError",
     "evalue": "int() argument must be a string, a bytes-like object or a number, not 'function'",
     "output_type": "error",
     "traceback": [
      "\u001b[1;31m---------------------------------------------------------------------------\u001b[0m",
      "\u001b[1;31mTypeError\u001b[0m                                 Traceback (most recent call last)",
      "\u001b[1;32m<ipython-input-43-f0a2f09c0fa1>\u001b[0m in \u001b[0;36m<module>\u001b[1;34m\u001b[0m\n\u001b[1;32m----> 1\u001b[1;33m \u001b[0mdf\u001b[0m\u001b[1;33m[\u001b[0m\u001b[1;34m'c1'\u001b[0m\u001b[1;33m]\u001b[0m\u001b[1;33m[\u001b[0m\u001b[1;34m'r1'\u001b[0m\u001b[1;33m]\u001b[0m\u001b[1;33m[\u001b[0m\u001b[1;34m'q1'\u001b[0m\u001b[1;33m]\u001b[0m\u001b[1;33m.\u001b[0m\u001b[0miloc\u001b[0m\u001b[1;33m[\u001b[0m\u001b[1;33m[\u001b[0m\u001b[1;32mlambda\u001b[0m \u001b[0mx\u001b[0m \u001b[1;33m:\u001b[0m\u001b[0mdf\u001b[0m\u001b[1;33m[\u001b[0m\u001b[1;34m'c1'\u001b[0m\u001b[1;33m]\u001b[0m\u001b[1;33m[\u001b[0m\u001b[1;34m'r1'\u001b[0m\u001b[1;33m]\u001b[0m\u001b[1;33m[\u001b[0m\u001b[1;34m'q1'\u001b[0m\u001b[1;33m]\u001b[0m\u001b[1;33m[\u001b[0m\u001b[1;34m'Eye movement type'\u001b[0m\u001b[1;33m]\u001b[0m\u001b[1;33m[\u001b[0m\u001b[0mx\u001b[0m\u001b[1;33m]\u001b[0m\u001b[1;33m==\u001b[0m\u001b[1;34m'Saccade'\u001b[0m\u001b[1;33m]\u001b[0m\u001b[1;33m]\u001b[0m\u001b[1;33m\u001b[0m\u001b[1;33m\u001b[0m\u001b[0m\n\u001b[0m",
      "\u001b[1;32m~\\Dev\\Anaconda\\lib\\site-packages\\pandas\\core\\indexing.py\u001b[0m in \u001b[0;36m__getitem__\u001b[1;34m(self, key)\u001b[0m\n\u001b[0;32m   1765\u001b[0m \u001b[1;33m\u001b[0m\u001b[0m\n\u001b[0;32m   1766\u001b[0m             \u001b[0mmaybe_callable\u001b[0m \u001b[1;33m=\u001b[0m \u001b[0mcom\u001b[0m\u001b[1;33m.\u001b[0m\u001b[0mapply_if_callable\u001b[0m\u001b[1;33m(\u001b[0m\u001b[0mkey\u001b[0m\u001b[1;33m,\u001b[0m \u001b[0mself\u001b[0m\u001b[1;33m.\u001b[0m\u001b[0mobj\u001b[0m\u001b[1;33m)\u001b[0m\u001b[1;33m\u001b[0m\u001b[1;33m\u001b[0m\u001b[0m\n\u001b[1;32m-> 1767\u001b[1;33m             \u001b[1;32mreturn\u001b[0m \u001b[0mself\u001b[0m\u001b[1;33m.\u001b[0m\u001b[0m_getitem_axis\u001b[0m\u001b[1;33m(\u001b[0m\u001b[0mmaybe_callable\u001b[0m\u001b[1;33m,\u001b[0m \u001b[0maxis\u001b[0m\u001b[1;33m=\u001b[0m\u001b[0maxis\u001b[0m\u001b[1;33m)\u001b[0m\u001b[1;33m\u001b[0m\u001b[1;33m\u001b[0m\u001b[0m\n\u001b[0m\u001b[0;32m   1768\u001b[0m \u001b[1;33m\u001b[0m\u001b[0m\n\u001b[0;32m   1769\u001b[0m     \u001b[1;32mdef\u001b[0m \u001b[0m_is_scalar_access\u001b[0m\u001b[1;33m(\u001b[0m\u001b[0mself\u001b[0m\u001b[1;33m,\u001b[0m \u001b[0mkey\u001b[0m\u001b[1;33m:\u001b[0m \u001b[0mTuple\u001b[0m\u001b[1;33m)\u001b[0m\u001b[1;33m:\u001b[0m\u001b[1;33m\u001b[0m\u001b[1;33m\u001b[0m\u001b[0m\n",
      "\u001b[1;32m~\\Dev\\Anaconda\\lib\\site-packages\\pandas\\core\\indexing.py\u001b[0m in \u001b[0;36m_getitem_axis\u001b[1;34m(self, key, axis)\u001b[0m\n\u001b[0;32m   2126\u001b[0m         \u001b[1;31m# a list of integers\u001b[0m\u001b[1;33m\u001b[0m\u001b[1;33m\u001b[0m\u001b[1;33m\u001b[0m\u001b[0m\n\u001b[0;32m   2127\u001b[0m         \u001b[1;32melif\u001b[0m \u001b[0mis_list_like_indexer\u001b[0m\u001b[1;33m(\u001b[0m\u001b[0mkey\u001b[0m\u001b[1;33m)\u001b[0m\u001b[1;33m:\u001b[0m\u001b[1;33m\u001b[0m\u001b[1;33m\u001b[0m\u001b[0m\n\u001b[1;32m-> 2128\u001b[1;33m             \u001b[1;32mreturn\u001b[0m \u001b[0mself\u001b[0m\u001b[1;33m.\u001b[0m\u001b[0m_get_list_axis\u001b[0m\u001b[1;33m(\u001b[0m\u001b[0mkey\u001b[0m\u001b[1;33m,\u001b[0m \u001b[0maxis\u001b[0m\u001b[1;33m=\u001b[0m\u001b[0maxis\u001b[0m\u001b[1;33m)\u001b[0m\u001b[1;33m\u001b[0m\u001b[1;33m\u001b[0m\u001b[0m\n\u001b[0m\u001b[0;32m   2129\u001b[0m \u001b[1;33m\u001b[0m\u001b[0m\n\u001b[0;32m   2130\u001b[0m         \u001b[1;31m# a single integer\u001b[0m\u001b[1;33m\u001b[0m\u001b[1;33m\u001b[0m\u001b[1;33m\u001b[0m\u001b[0m\n",
      "\u001b[1;32m~\\Dev\\Anaconda\\lib\\site-packages\\pandas\\core\\indexing.py\u001b[0m in \u001b[0;36m_get_list_axis\u001b[1;34m(self, key, axis)\u001b[0m\n\u001b[0;32m   2108\u001b[0m         \"\"\"\n\u001b[0;32m   2109\u001b[0m         \u001b[1;32mtry\u001b[0m\u001b[1;33m:\u001b[0m\u001b[1;33m\u001b[0m\u001b[1;33m\u001b[0m\u001b[0m\n\u001b[1;32m-> 2110\u001b[1;33m             \u001b[1;32mreturn\u001b[0m \u001b[0mself\u001b[0m\u001b[1;33m.\u001b[0m\u001b[0mobj\u001b[0m\u001b[1;33m.\u001b[0m\u001b[0m_take_with_is_copy\u001b[0m\u001b[1;33m(\u001b[0m\u001b[0mkey\u001b[0m\u001b[1;33m,\u001b[0m \u001b[0maxis\u001b[0m\u001b[1;33m=\u001b[0m\u001b[0maxis\u001b[0m\u001b[1;33m)\u001b[0m\u001b[1;33m\u001b[0m\u001b[1;33m\u001b[0m\u001b[0m\n\u001b[0m\u001b[0;32m   2111\u001b[0m         \u001b[1;32mexcept\u001b[0m \u001b[0mIndexError\u001b[0m\u001b[1;33m:\u001b[0m\u001b[1;33m\u001b[0m\u001b[1;33m\u001b[0m\u001b[0m\n\u001b[0;32m   2112\u001b[0m             \u001b[1;31m# re-raise with different error message\u001b[0m\u001b[1;33m\u001b[0m\u001b[1;33m\u001b[0m\u001b[1;33m\u001b[0m\u001b[0m\n",
      "\u001b[1;32m~\\Dev\\Anaconda\\lib\\site-packages\\pandas\\core\\generic.py\u001b[0m in \u001b[0;36m_take_with_is_copy\u001b[1;34m(self, indices, axis, **kwargs)\u001b[0m\n\u001b[0;32m   3407\u001b[0m         \u001b[0mSee\u001b[0m \u001b[0mthe\u001b[0m \u001b[0mdocstring\u001b[0m \u001b[0mof\u001b[0m\u001b[0;31m \u001b[0m\u001b[0;31m`\u001b[0m\u001b[0mtake\u001b[0m\u001b[0;31m`\u001b[0m \u001b[1;32mfor\u001b[0m \u001b[0mfull\u001b[0m \u001b[0mexplanation\u001b[0m \u001b[0mof\u001b[0m \u001b[0mthe\u001b[0m \u001b[0mparameters\u001b[0m\u001b[1;33m.\u001b[0m\u001b[1;33m\u001b[0m\u001b[1;33m\u001b[0m\u001b[0m\n\u001b[0;32m   3408\u001b[0m         \"\"\"\n\u001b[1;32m-> 3409\u001b[1;33m         \u001b[0mresult\u001b[0m \u001b[1;33m=\u001b[0m \u001b[0mself\u001b[0m\u001b[1;33m.\u001b[0m\u001b[0mtake\u001b[0m\u001b[1;33m(\u001b[0m\u001b[0mindices\u001b[0m\u001b[1;33m=\u001b[0m\u001b[0mindices\u001b[0m\u001b[1;33m,\u001b[0m \u001b[0maxis\u001b[0m\u001b[1;33m=\u001b[0m\u001b[0maxis\u001b[0m\u001b[1;33m,\u001b[0m \u001b[1;33m**\u001b[0m\u001b[0mkwargs\u001b[0m\u001b[1;33m)\u001b[0m\u001b[1;33m\u001b[0m\u001b[1;33m\u001b[0m\u001b[0m\n\u001b[0m\u001b[0;32m   3410\u001b[0m         \u001b[1;31m# Maybe set copy if we didn't actually change the index.\u001b[0m\u001b[1;33m\u001b[0m\u001b[1;33m\u001b[0m\u001b[1;33m\u001b[0m\u001b[0m\n\u001b[0;32m   3411\u001b[0m         \u001b[1;32mif\u001b[0m \u001b[1;32mnot\u001b[0m \u001b[0mresult\u001b[0m\u001b[1;33m.\u001b[0m\u001b[0m_get_axis\u001b[0m\u001b[1;33m(\u001b[0m\u001b[0maxis\u001b[0m\u001b[1;33m)\u001b[0m\u001b[1;33m.\u001b[0m\u001b[0mequals\u001b[0m\u001b[1;33m(\u001b[0m\u001b[0mself\u001b[0m\u001b[1;33m.\u001b[0m\u001b[0m_get_axis\u001b[0m\u001b[1;33m(\u001b[0m\u001b[0maxis\u001b[0m\u001b[1;33m)\u001b[0m\u001b[1;33m)\u001b[0m\u001b[1;33m:\u001b[0m\u001b[1;33m\u001b[0m\u001b[1;33m\u001b[0m\u001b[0m\n",
      "\u001b[1;32m~\\Dev\\Anaconda\\lib\\site-packages\\pandas\\core\\generic.py\u001b[0m in \u001b[0;36mtake\u001b[1;34m(self, indices, axis, is_copy, **kwargs)\u001b[0m\n\u001b[0;32m   3393\u001b[0m \u001b[1;33m\u001b[0m\u001b[0m\n\u001b[0;32m   3394\u001b[0m         new_data = self._data.take(\n\u001b[1;32m-> 3395\u001b[1;33m             \u001b[0mindices\u001b[0m\u001b[1;33m,\u001b[0m \u001b[0maxis\u001b[0m\u001b[1;33m=\u001b[0m\u001b[0mself\u001b[0m\u001b[1;33m.\u001b[0m\u001b[0m_get_block_manager_axis\u001b[0m\u001b[1;33m(\u001b[0m\u001b[0maxis\u001b[0m\u001b[1;33m)\u001b[0m\u001b[1;33m,\u001b[0m \u001b[0mverify\u001b[0m\u001b[1;33m=\u001b[0m\u001b[1;32mTrue\u001b[0m\u001b[1;33m\u001b[0m\u001b[1;33m\u001b[0m\u001b[0m\n\u001b[0m\u001b[0;32m   3396\u001b[0m         )\n\u001b[0;32m   3397\u001b[0m         \u001b[1;32mreturn\u001b[0m \u001b[0mself\u001b[0m\u001b[1;33m.\u001b[0m\u001b[0m_constructor\u001b[0m\u001b[1;33m(\u001b[0m\u001b[0mnew_data\u001b[0m\u001b[1;33m)\u001b[0m\u001b[1;33m.\u001b[0m\u001b[0m__finalize__\u001b[0m\u001b[1;33m(\u001b[0m\u001b[0mself\u001b[0m\u001b[1;33m)\u001b[0m\u001b[1;33m\u001b[0m\u001b[1;33m\u001b[0m\u001b[0m\n",
      "\u001b[1;32m~\\Dev\\Anaconda\\lib\\site-packages\\pandas\\core\\internals\\managers.py\u001b[0m in \u001b[0;36mtake\u001b[1;34m(self, indexer, axis, verify, convert)\u001b[0m\n\u001b[0;32m   1379\u001b[0m             \u001b[0mnp\u001b[0m\u001b[1;33m.\u001b[0m\u001b[0marange\u001b[0m\u001b[1;33m(\u001b[0m\u001b[0mindexer\u001b[0m\u001b[1;33m.\u001b[0m\u001b[0mstart\u001b[0m\u001b[1;33m,\u001b[0m \u001b[0mindexer\u001b[0m\u001b[1;33m.\u001b[0m\u001b[0mstop\u001b[0m\u001b[1;33m,\u001b[0m \u001b[0mindexer\u001b[0m\u001b[1;33m.\u001b[0m\u001b[0mstep\u001b[0m\u001b[1;33m,\u001b[0m \u001b[0mdtype\u001b[0m\u001b[1;33m=\u001b[0m\u001b[1;34m\"int64\"\u001b[0m\u001b[1;33m)\u001b[0m\u001b[1;33m\u001b[0m\u001b[1;33m\u001b[0m\u001b[0m\n\u001b[0;32m   1380\u001b[0m             \u001b[1;32mif\u001b[0m \u001b[0misinstance\u001b[0m\u001b[1;33m(\u001b[0m\u001b[0mindexer\u001b[0m\u001b[1;33m,\u001b[0m \u001b[0mslice\u001b[0m\u001b[1;33m)\u001b[0m\u001b[1;33m\u001b[0m\u001b[1;33m\u001b[0m\u001b[0m\n\u001b[1;32m-> 1381\u001b[1;33m             \u001b[1;32melse\u001b[0m \u001b[0mnp\u001b[0m\u001b[1;33m.\u001b[0m\u001b[0masanyarray\u001b[0m\u001b[1;33m(\u001b[0m\u001b[0mindexer\u001b[0m\u001b[1;33m,\u001b[0m \u001b[0mdtype\u001b[0m\u001b[1;33m=\u001b[0m\u001b[1;34m\"int64\"\u001b[0m\u001b[1;33m)\u001b[0m\u001b[1;33m\u001b[0m\u001b[1;33m\u001b[0m\u001b[0m\n\u001b[0m\u001b[0;32m   1382\u001b[0m         )\n\u001b[0;32m   1383\u001b[0m \u001b[1;33m\u001b[0m\u001b[0m\n",
      "\u001b[1;32m~\\Dev\\Anaconda\\lib\\site-packages\\numpy\\core\\_asarray.py\u001b[0m in \u001b[0;36masanyarray\u001b[1;34m(a, dtype, order)\u001b[0m\n\u001b[0;32m    136\u001b[0m \u001b[1;33m\u001b[0m\u001b[0m\n\u001b[0;32m    137\u001b[0m     \"\"\"\n\u001b[1;32m--> 138\u001b[1;33m     \u001b[1;32mreturn\u001b[0m \u001b[0marray\u001b[0m\u001b[1;33m(\u001b[0m\u001b[0ma\u001b[0m\u001b[1;33m,\u001b[0m \u001b[0mdtype\u001b[0m\u001b[1;33m,\u001b[0m \u001b[0mcopy\u001b[0m\u001b[1;33m=\u001b[0m\u001b[1;32mFalse\u001b[0m\u001b[1;33m,\u001b[0m \u001b[0morder\u001b[0m\u001b[1;33m=\u001b[0m\u001b[0morder\u001b[0m\u001b[1;33m,\u001b[0m \u001b[0msubok\u001b[0m\u001b[1;33m=\u001b[0m\u001b[1;32mTrue\u001b[0m\u001b[1;33m)\u001b[0m\u001b[1;33m\u001b[0m\u001b[1;33m\u001b[0m\u001b[0m\n\u001b[0m\u001b[0;32m    139\u001b[0m \u001b[1;33m\u001b[0m\u001b[0m\n\u001b[0;32m    140\u001b[0m \u001b[1;33m\u001b[0m\u001b[0m\n",
      "\u001b[1;31mTypeError\u001b[0m: int() argument must be a string, a bytes-like object or a number, not 'function'"
     ]
    }
   ],
   "source": []
  },
  {
   "cell_type": "code",
   "execution_count": null,
   "metadata": {},
   "outputs": [],
   "source": []
  }
 ],
 "metadata": {
  "kernelspec": {
   "display_name": "Python 3",
   "language": "python",
   "name": "python3"
  },
  "language_info": {
   "codemirror_mode": {
    "name": "ipython",
    "version": 3
   },
   "file_extension": ".py",
   "mimetype": "text/x-python",
   "name": "python",
   "nbconvert_exporter": "python",
   "pygments_lexer": "ipython3",
   "version": "3.7.6"
  }
 },
 "nbformat": 4,
 "nbformat_minor": 4
}
